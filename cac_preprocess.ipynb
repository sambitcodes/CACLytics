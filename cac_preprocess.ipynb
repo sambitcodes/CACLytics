train_data = pd.read_csv(r'cac_dataset/customer_acquisition_costs.csv')
train_data = train_data.drop(["avg_cars_at home(approx).1"], axis=1)
train_label = train_data["cost"]
train_data = train_data.drop(["cost"], axis=1)
train_data["avg. yearly_income"] = train_data['avg. yearly_income'].str.replace(r'\$', '', regex=True) #cleaned yearly income
def media_cleaner(value):
    if 'Daily' in value:
        value = "Daily Media"
    elif 'Sunday' in value:
        value = "Sunday Media"
    return value
train_data["media_type"] = train_data["media_type"].apply(media_cleaner) #cleaned mediatype

# Map the data value to strength score
education_mapping = {
    "Partial High School": 1,
    "High School Degree": 2,
    "Partial College": 3,
    "Bachelors Degree": 4,
    "Graduate Degree": 5
}

houseowner_mapping = {"Y": 1, "N": 0}

occupation_mapping = {'Manual' :1,
                    'Skilled Manual':2,
                    'Clerical':3,
                    'Professional':4,
                    'Management':5}

member_card_mapping = {
    "Normal": 1,
    "Bronze": 2,
    "Silver": 3,
    "Golden": 4
}
income_mapping = {
    "10K - 30K": 1,
    "30K - 50K": 2,
    "50K - 70K": 3,
    "70K - 90K": 4,
    "90K - 110K": 5,
    "110K - 130K": 6,
    "130K - 150K": 7,
    "150K +": 8
}
car_mapping = {
    "0 car": 0.0,
    "1 car": 1.0,
    "2 car": 2.0,
    "3 car": 3.0,
    "4 car": 4.0
}

weights = {
    "education_encoded": 0.1,
    "houseowner_encoded": 0.15,
    "member_card_encoded": 0.2,
    "income_encoded": 0.3, 
    "occupation_encoded": 0.1,
    "cars_at_home" : 0.15
}

train_data["profile_strength"] = (
    (train_data["education"].map(education_mapping)) * weights["education_encoded"] +
    (train_data["houseowner"].map(houseowner_mapping)) * weights["houseowner_encoded"] +
    (train_data["member_card"].map(member_card_mapping)) * weights["member_card_encoded"] +
    (train_data["avg. yearly_income"].map(income_mapping)) * weights["income_encoded"] +
    (train_data["occupation"].map(occupation_mapping)) * weights["occupation_encoded"] +
    (train_data["avg_cars_at home(approx)"]) * weights["cars_at_home"] 
) 

ordinal_cat = ["education","occupation","member_card","avg. yearly_income","store_type"]
dic = {}
for i in range(len(ordinal_cat)):
    dic[ordinal_cat[i]] = train_data[ordinal_cat[i]].unique()


codes = [0,1,2,3,4,5,6,7]
ed_map = pd.DataFrame({"education" : ["Partial High School","High School Degree","Partial College","Bachelors Degree","Graduate Degree"],
                       "encoding_values" : codes[:5]})
mem_map = pd.DataFrame({"member_card":["Normal","Bronze","Silver","Golden"],
                        "encoding_values" : codes[:4]})
occ_map = pd.DataFrame({"occupation" : ['Manual', 'Skilled Manual', 'Clerical', 'Professional', 'Management'],
                       "encoding_values" : codes[:5]})
inc_map = pd.DataFrame({"avg. yearly_income" :['10K - 30K', '30K - 50K', '50K - 70K', '70K - 90K','90K - 110K', '110K - 130K', '130K - 150K', '150K +'],
                        "encoding_values" : codes})
store_map = pd.DataFrame({"store_type":['Small Grocery', 'Mid-Size Grocery', 'Supermarket', 'Gourmet Supermarket', 'Deluxe Supermarket'],
                         "encoding_values" : codes[:5]})

ordinal_order = [ed_map[ordinal_cat[0]],occ_map[ordinal_cat[1]],mem_map[ordinal_cat[2]],inc_map[ordinal_cat[3]],store_map[ordinal_cat[4]]]

for i in range(len(ordinal_order)):
    train_data[ordinal_cat[i]] = pd.Categorical(train_data[ordinal_cat[i]], categories=ordinal_order[i], ordered=True).codes


nominal_cat = train_data.select_dtypes('object').columns

import pandas as pd
import category_encoders as ce

# Apply binary encoding
binary_encoder = ce.BinaryEncoder(cols=nominal_cat)
train_encoded = binary_encoder.fit_transform(train_data)

